{
 "cells": [
  {
   "cell_type": "code",
   "execution_count": 19,
   "id": "78e55448",
   "metadata": {},
   "outputs": [],
   "source": [
    "import pandas as pd\n",
    "import numpy as np \n",
    "import plotly.express as px \n",
    "import seaborn as sns \n",
    "import matplotlib.pyplot as plt \n",
    "import plotly.graph_objects as go\n",
    "from sklearn.preprocessing import StandardScaler\n",
    "from sklearn.preprocessing import LabelEncoder\n",
    "from sklearn.ensemble import RandomForestClassifier\n",
    "from sklearn.svm import SVC\n",
    "from sklearn.tree import DecisionTreeClassifier,plot_tree\n",
    "from sklearn.model_selection import train_test_split\n",
    "from sklearn.metrics import accuracy_score,classification_report,confusion_matrix\n",
    "from sklearn.model_selection import GridSearchCV\n",
    "import pickle\n",
    "from sklearn.linear_model import LogisticRegression"
   ]
  },
  {
   "cell_type": "markdown",
   "id": "7585e84d",
   "metadata": {},
   "source": [
    "## Read Data"
   ]
  },
  {
   "cell_type": "code",
   "execution_count": 20,
   "id": "1fa03ab4",
   "metadata": {},
   "outputs": [],
   "source": [
    "df=pd.read_csv(r'movies.csv')"
   ]
  },
  {
   "cell_type": "code",
   "execution_count": 21,
   "id": "9c5e57ad",
   "metadata": {},
   "outputs": [
    {
     "data": {
      "text/html": [
       "<div>\n",
       "<style scoped>\n",
       "    .dataframe tbody tr th:only-of-type {\n",
       "        vertical-align: middle;\n",
       "    }\n",
       "\n",
       "    .dataframe tbody tr th {\n",
       "        vertical-align: top;\n",
       "    }\n",
       "\n",
       "    .dataframe thead th {\n",
       "        text-align: right;\n",
       "    }\n",
       "</style>\n",
       "<table border=\"1\" class=\"dataframe\">\n",
       "  <thead>\n",
       "    <tr style=\"text-align: right;\">\n",
       "      <th></th>\n",
       "      <th>id</th>\n",
       "      <th>title</th>\n",
       "      <th>genres</th>\n",
       "      <th>original_language</th>\n",
       "      <th>overview</th>\n",
       "      <th>popularity</th>\n",
       "      <th>production_companies</th>\n",
       "      <th>release_date</th>\n",
       "      <th>budget</th>\n",
       "      <th>revenue</th>\n",
       "      <th>runtime</th>\n",
       "      <th>status</th>\n",
       "      <th>tagline</th>\n",
       "      <th>vote_average</th>\n",
       "      <th>vote_count</th>\n",
       "      <th>credits</th>\n",
       "      <th>keywords</th>\n",
       "      <th>poster_path</th>\n",
       "      <th>backdrop_path</th>\n",
       "      <th>recommendations</th>\n",
       "    </tr>\n",
       "  </thead>\n",
       "  <tbody>\n",
       "    <tr>\n",
       "      <th>0</th>\n",
       "      <td>760161</td>\n",
       "      <td>Orphan: First Kill</td>\n",
       "      <td>Horror-Thriller</td>\n",
       "      <td>en</td>\n",
       "      <td>After escaping from an Estonian psychiatric fa...</td>\n",
       "      <td>8098.027</td>\n",
       "      <td>Dark Castle Entertainment-Entertainment One-Ea...</td>\n",
       "      <td>2022-07-27</td>\n",
       "      <td>0.0</td>\n",
       "      <td>9572765.0</td>\n",
       "      <td>99.0</td>\n",
       "      <td>Released</td>\n",
       "      <td>There's always been something wrong with Esther.</td>\n",
       "      <td>6.963</td>\n",
       "      <td>821.0</td>\n",
       "      <td>Isabelle Fuhrman-Julia Stiles-Rossif Sutherlan...</td>\n",
       "      <td>psychopath-family secrets-prequel-murder-imper...</td>\n",
       "      <td>/wSqAXL1EHVJ3MOnJzMhUngc8gFs.jpg</td>\n",
       "      <td>/5GA3vV1aWWHTSDO5eno8V5zDo8r.jpg</td>\n",
       "      <td>606237-818502-744276-721930-1001925-762504-982...</td>\n",
       "    </tr>\n",
       "    <tr>\n",
       "      <th>1</th>\n",
       "      <td>718930</td>\n",
       "      <td>Bullet Train</td>\n",
       "      <td>Action-Comedy-Thriller</td>\n",
       "      <td>en</td>\n",
       "      <td>Unlucky assassin Ladybug is determined to do h...</td>\n",
       "      <td>7949.491</td>\n",
       "      <td>Columbia Pictures-87North Productions</td>\n",
       "      <td>2022-07-03</td>\n",
       "      <td>90000000.0</td>\n",
       "      <td>231398720.0</td>\n",
       "      <td>126.0</td>\n",
       "      <td>Released</td>\n",
       "      <td>The end of the line is just the beginning.</td>\n",
       "      <td>7.497</td>\n",
       "      <td>1238.0</td>\n",
       "      <td>Brad Pitt-Joey King-Aaron Taylor-Johnson-Brian...</td>\n",
       "      <td>japan-assassin-based on novel or book-mission-...</td>\n",
       "      <td>/tVxDe01Zy3kZqaZRNiXFGDICdZk.jpg</td>\n",
       "      <td>/y2Ca1neKke2mGPMaHzlCNDVZqsK.jpg</td>\n",
       "      <td>1002564-762504-755566-1002171-682507-884453-55...</td>\n",
       "    </tr>\n",
       "    <tr>\n",
       "      <th>2</th>\n",
       "      <td>744276</td>\n",
       "      <td>After Ever Happy</td>\n",
       "      <td>Romance-Drama</td>\n",
       "      <td>en</td>\n",
       "      <td>As a shocking truth about a couple's families ...</td>\n",
       "      <td>4017.342</td>\n",
       "      <td>Voltage Pictures-Vertical Entertainment-CalMap...</td>\n",
       "      <td>2022-08-24</td>\n",
       "      <td>0.0</td>\n",
       "      <td>0.0</td>\n",
       "      <td>95.0</td>\n",
       "      <td>Released</td>\n",
       "      <td>They can't stop loving each other.</td>\n",
       "      <td>6.830</td>\n",
       "      <td>215.0</td>\n",
       "      <td>Josephine Langford-Hero Fiennes Tiffin-Louise ...</td>\n",
       "      <td>based on novel or book-love-teenage crush</td>\n",
       "      <td>/6b7swg6DLqXCO3XUsMnv6RwDMW2.jpg</td>\n",
       "      <td>/rwgmDkIEv8VjAsWx25ottJrFvpO.jpg</td>\n",
       "      <td>20966-676701-419669-804251-766907-619803-67670...</td>\n",
       "    </tr>\n",
       "    <tr>\n",
       "      <th>3</th>\n",
       "      <td>579974</td>\n",
       "      <td>RRR</td>\n",
       "      <td>Action-Drama</td>\n",
       "      <td>te</td>\n",
       "      <td>A fictional history of two legendary revolutio...</td>\n",
       "      <td>3416.323</td>\n",
       "      <td>Lyca Productions-DVV Entertainment-Pen Studios</td>\n",
       "      <td>2022-03-24</td>\n",
       "      <td>69000000.0</td>\n",
       "      <td>160000000.0</td>\n",
       "      <td>182.0</td>\n",
       "      <td>Released</td>\n",
       "      <td>Rise, roar, revolt.</td>\n",
       "      <td>7.774</td>\n",
       "      <td>370.0</td>\n",
       "      <td>N.T. Rama Rao Jr.-Ram Charan-Alia Bhatt-Ajay D...</td>\n",
       "      <td>revolution-liberation-slavery-freedom fighter-...</td>\n",
       "      <td>/wE0I6efAW4cDDmZQWtwZMOW44EJ.jpg</td>\n",
       "      <td>/i0Y0wP8H6SRgjr6QmuwbtQbS24D.jpg</td>\n",
       "      <td>601337-889741-587412-766116-792358-680058-2372...</td>\n",
       "    </tr>\n",
       "    <tr>\n",
       "      <th>4</th>\n",
       "      <td>532639</td>\n",
       "      <td>Pinocchio</td>\n",
       "      <td>Fantasy-Adventure-Family</td>\n",
       "      <td>en</td>\n",
       "      <td>A wooden puppet embarks on a thrilling adventu...</td>\n",
       "      <td>3239.378</td>\n",
       "      <td>Walt Disney Pictures-Depth of Field</td>\n",
       "      <td>2022-09-07</td>\n",
       "      <td>0.0</td>\n",
       "      <td>0.0</td>\n",
       "      <td>105.0</td>\n",
       "      <td>Released</td>\n",
       "      <td>The timeless classic.</td>\n",
       "      <td>6.753</td>\n",
       "      <td>800.0</td>\n",
       "      <td>Benjamin Evan Ainsworth-Tom Hanks-Joseph Gordo...</td>\n",
       "      <td>fairy-musical-puppet-live action and animation...</td>\n",
       "      <td>/g8sclIV4gj1TZqUpnL82hKOTK3B.jpg</td>\n",
       "      <td>/nnUQqlVZeEGuCRx8SaoCU4XVHJN.jpg</td>\n",
       "      <td>985939-610150-760741-921360-576925-616037-5799...</td>\n",
       "    </tr>\n",
       "  </tbody>\n",
       "</table>\n",
       "</div>"
      ],
      "text/plain": [
       "       id               title                    genres original_language  \\\n",
       "0  760161  Orphan: First Kill           Horror-Thriller                en   \n",
       "1  718930        Bullet Train    Action-Comedy-Thriller                en   \n",
       "2  744276    After Ever Happy             Romance-Drama                en   \n",
       "3  579974                 RRR              Action-Drama                te   \n",
       "4  532639           Pinocchio  Fantasy-Adventure-Family                en   \n",
       "\n",
       "                                            overview  popularity  \\\n",
       "0  After escaping from an Estonian psychiatric fa...    8098.027   \n",
       "1  Unlucky assassin Ladybug is determined to do h...    7949.491   \n",
       "2  As a shocking truth about a couple's families ...    4017.342   \n",
       "3  A fictional history of two legendary revolutio...    3416.323   \n",
       "4  A wooden puppet embarks on a thrilling adventu...    3239.378   \n",
       "\n",
       "                                production_companies release_date      budget  \\\n",
       "0  Dark Castle Entertainment-Entertainment One-Ea...   2022-07-27         0.0   \n",
       "1              Columbia Pictures-87North Productions   2022-07-03  90000000.0   \n",
       "2  Voltage Pictures-Vertical Entertainment-CalMap...   2022-08-24         0.0   \n",
       "3     Lyca Productions-DVV Entertainment-Pen Studios   2022-03-24  69000000.0   \n",
       "4                Walt Disney Pictures-Depth of Field   2022-09-07         0.0   \n",
       "\n",
       "       revenue  runtime    status  \\\n",
       "0    9572765.0     99.0  Released   \n",
       "1  231398720.0    126.0  Released   \n",
       "2          0.0     95.0  Released   \n",
       "3  160000000.0    182.0  Released   \n",
       "4          0.0    105.0  Released   \n",
       "\n",
       "                                            tagline  vote_average  vote_count  \\\n",
       "0  There's always been something wrong with Esther.         6.963       821.0   \n",
       "1        The end of the line is just the beginning.         7.497      1238.0   \n",
       "2                They can't stop loving each other.         6.830       215.0   \n",
       "3                               Rise, roar, revolt.         7.774       370.0   \n",
       "4                             The timeless classic.         6.753       800.0   \n",
       "\n",
       "                                             credits  \\\n",
       "0  Isabelle Fuhrman-Julia Stiles-Rossif Sutherlan...   \n",
       "1  Brad Pitt-Joey King-Aaron Taylor-Johnson-Brian...   \n",
       "2  Josephine Langford-Hero Fiennes Tiffin-Louise ...   \n",
       "3  N.T. Rama Rao Jr.-Ram Charan-Alia Bhatt-Ajay D...   \n",
       "4  Benjamin Evan Ainsworth-Tom Hanks-Joseph Gordo...   \n",
       "\n",
       "                                            keywords  \\\n",
       "0  psychopath-family secrets-prequel-murder-imper...   \n",
       "1  japan-assassin-based on novel or book-mission-...   \n",
       "2          based on novel or book-love-teenage crush   \n",
       "3  revolution-liberation-slavery-freedom fighter-...   \n",
       "4  fairy-musical-puppet-live action and animation...   \n",
       "\n",
       "                        poster_path                     backdrop_path  \\\n",
       "0  /wSqAXL1EHVJ3MOnJzMhUngc8gFs.jpg  /5GA3vV1aWWHTSDO5eno8V5zDo8r.jpg   \n",
       "1  /tVxDe01Zy3kZqaZRNiXFGDICdZk.jpg  /y2Ca1neKke2mGPMaHzlCNDVZqsK.jpg   \n",
       "2  /6b7swg6DLqXCO3XUsMnv6RwDMW2.jpg  /rwgmDkIEv8VjAsWx25ottJrFvpO.jpg   \n",
       "3  /wE0I6efAW4cDDmZQWtwZMOW44EJ.jpg  /i0Y0wP8H6SRgjr6QmuwbtQbS24D.jpg   \n",
       "4  /g8sclIV4gj1TZqUpnL82hKOTK3B.jpg  /nnUQqlVZeEGuCRx8SaoCU4XVHJN.jpg   \n",
       "\n",
       "                                     recommendations  \n",
       "0  606237-818502-744276-721930-1001925-762504-982...  \n",
       "1  1002564-762504-755566-1002171-682507-884453-55...  \n",
       "2  20966-676701-419669-804251-766907-619803-67670...  \n",
       "3  601337-889741-587412-766116-792358-680058-2372...  \n",
       "4  985939-610150-760741-921360-576925-616037-5799...  "
      ]
     },
     "execution_count": 21,
     "metadata": {},
     "output_type": "execute_result"
    }
   ],
   "source": [
    "df.head()"
   ]
  },
  {
   "cell_type": "markdown",
   "id": "7731339e",
   "metadata": {},
   "source": [
    "### Handling Data"
   ]
  },
  {
   "cell_type": "code",
   "execution_count": 22,
   "id": "6e2f94e6",
   "metadata": {},
   "outputs": [
    {
     "name": "stdout",
     "output_type": "stream",
     "text": [
      "82410\n",
      "168588\n"
     ]
    }
   ],
   "source": [
    "print(df['id'].duplicated().sum())\n",
    "print(df['title'].duplicated().sum())\n"
   ]
  },
  {
   "cell_type": "code",
   "execution_count": 23,
   "id": "b13f6a7a",
   "metadata": {},
   "outputs": [
    {
     "data": {
      "text/plain": [
       "id                           0\n",
       "title                        6\n",
       "genres                  220700\n",
       "original_language            0\n",
       "overview                121133\n",
       "popularity                   0\n",
       "production_companies    399287\n",
       "release_date             56781\n",
       "budget                       0\n",
       "revenue                      0\n",
       "runtime                  38461\n",
       "status                       0\n",
       "tagline                 634509\n",
       "vote_average                 0\n",
       "vote_count                   0\n",
       "credits                 231329\n",
       "keywords                529469\n",
       "poster_path             199099\n",
       "backdrop_path           519126\n",
       "recommendations         700806\n",
       "dtype: int64"
      ]
     },
     "execution_count": 23,
     "metadata": {},
     "output_type": "execute_result"
    }
   ],
   "source": [
    "df.isnull().sum()"
   ]
  },
  {
   "cell_type": "code",
   "execution_count": 24,
   "id": "4e575346",
   "metadata": {},
   "outputs": [],
   "source": [
    "df.drop_duplicates(inplace=True)"
   ]
  },
  {
   "cell_type": "code",
   "execution_count": 25,
   "id": "263479e8",
   "metadata": {},
   "outputs": [
    {
     "data": {
      "text/plain": [
       "np.int64(84372)"
      ]
     },
     "execution_count": 25,
     "metadata": {},
     "output_type": "execute_result"
    }
   ],
   "source": [
    "df[['title','release_date']].duplicated().sum()"
   ]
  },
  {
   "cell_type": "code",
   "execution_count": 26,
   "id": "8cd417af",
   "metadata": {},
   "outputs": [],
   "source": [
    "df.drop_duplicates(subset=[\"title\",\"release_date\"],inplace=True)"
   ]
  },
  {
   "cell_type": "code",
   "execution_count": 27,
   "id": "b89f98df",
   "metadata": {},
   "outputs": [
    {
     "data": {
      "text/plain": [
       "(659948, 20)"
      ]
     },
     "execution_count": 27,
     "metadata": {},
     "output_type": "execute_result"
    }
   ],
   "source": [
    "df.shape"
   ]
  },
  {
   "cell_type": "code",
   "execution_count": 28,
   "id": "8ea1a98e",
   "metadata": {},
   "outputs": [],
   "source": [
    "df1=df[df['vote_count']>=20].reset_index()"
   ]
  },
  {
   "cell_type": "code",
   "execution_count": 29,
   "id": "c3e8d043",
   "metadata": {},
   "outputs": [
    {
     "data": {
      "text/plain": [
       "index                       0\n",
       "id                          0\n",
       "title                       0\n",
       "genres                    179\n",
       "original_language           0\n",
       "overview                  475\n",
       "popularity                  0\n",
       "production_companies     3306\n",
       "release_date                2\n",
       "budget                      0\n",
       "revenue                     0\n",
       "runtime                    16\n",
       "status                      0\n",
       "tagline                 20420\n",
       "vote_average                0\n",
       "vote_count                  0\n",
       "credits                   647\n",
       "keywords                 9576\n",
       "poster_path               138\n",
       "backdrop_path            2436\n",
       "recommendations         11658\n",
       "dtype: int64"
      ]
     },
     "execution_count": 29,
     "metadata": {},
     "output_type": "execute_result"
    }
   ],
   "source": [
    "df1.isnull().sum()"
   ]
  },
  {
   "cell_type": "code",
   "execution_count": 30,
   "id": "8ed36e5a",
   "metadata": {},
   "outputs": [
    {
     "data": {
      "text/plain": [
       "(43229, 21)"
      ]
     },
     "execution_count": 30,
     "metadata": {},
     "output_type": "execute_result"
    }
   ],
   "source": [
    "df1.shape"
   ]
  },
  {
   "cell_type": "code",
   "execution_count": 31,
   "id": "803c0f37",
   "metadata": {},
   "outputs": [
    {
     "name": "stderr",
     "output_type": "stream",
     "text": [
      "C:\\Users\\Mostafa\\AppData\\Local\\Temp\\ipykernel_1472\\3884096528.py:1: FutureWarning: Setting an item of incompatible dtype is deprecated and will raise an error in a future version of pandas. Value '' has dtype incompatible with float64, please explicitly cast to a compatible dtype first.\n",
      "  df1.fillna('',inplace=True)\n"
     ]
    }
   ],
   "source": [
    "df1.fillna('',inplace=True)"
   ]
  },
  {
   "cell_type": "code",
   "execution_count": 32,
   "id": "93723ad6",
   "metadata": {},
   "outputs": [
    {
     "data": {
      "text/plain": [
       "index                   0\n",
       "id                      0\n",
       "title                   0\n",
       "genres                  0\n",
       "original_language       0\n",
       "overview                0\n",
       "popularity              0\n",
       "production_companies    0\n",
       "release_date            0\n",
       "budget                  0\n",
       "revenue                 0\n",
       "runtime                 0\n",
       "status                  0\n",
       "tagline                 0\n",
       "vote_average            0\n",
       "vote_count              0\n",
       "credits                 0\n",
       "keywords                0\n",
       "poster_path             0\n",
       "backdrop_path           0\n",
       "recommendations         0\n",
       "dtype: int64"
      ]
     },
     "execution_count": 32,
     "metadata": {},
     "output_type": "execute_result"
    }
   ],
   "source": [
    "df1.isna().sum()"
   ]
  },
  {
   "cell_type": "code",
   "execution_count": 33,
   "id": "938a41f3",
   "metadata": {},
   "outputs": [],
   "source": [
    "index=df1[(df1['genres']=='') & (df1['overview']=='')].index"
   ]
  },
  {
   "cell_type": "code",
   "execution_count": 34,
   "id": "cae34462",
   "metadata": {},
   "outputs": [],
   "source": [
    "df1.drop(index,inplace=True)"
   ]
  },
  {
   "cell_type": "code",
   "execution_count": 35,
   "id": "2177cdf5",
   "metadata": {},
   "outputs": [
    {
     "data": {
      "text/plain": [
       "(43194, 21)"
      ]
     },
     "execution_count": 35,
     "metadata": {},
     "output_type": "execute_result"
    }
   ],
   "source": [
    "df1.shape"
   ]
  },
  {
   "cell_type": "code",
   "execution_count": null,
   "id": "149de0b1",
   "metadata": {},
   "outputs": [
    {
     "name": "stderr",
     "output_type": "stream",
     "text": [
      "WARNING: Ignoring invalid distribution ~orch (C:\\Users\\Mostafa\\AppData\\Local\\Programs\\Python\\Python313\\Lib\\site-packages)\n",
      "WARNING: Ignoring invalid distribution ~orch (C:\\Users\\Mostafa\\AppData\\Local\\Programs\\Python\\Python313\\Lib\\site-packages)\n",
      "WARNING: Ignoring invalid distribution ~orch (C:\\Users\\Mostafa\\AppData\\Local\\Programs\\Python\\Python313\\Lib\\site-packages)\n"
     ]
    },
    {
     "name": "stdout",
     "output_type": "stream",
     "text": [
      "Collecting openpyxl\n",
      "  Downloading openpyxl-3.1.5-py2.py3-none-any.whl.metadata (2.5 kB)\n",
      "Collecting et-xmlfile (from openpyxl)\n",
      "  Downloading et_xmlfile-2.0.0-py3-none-any.whl.metadata (2.7 kB)\n",
      "Downloading openpyxl-3.1.5-py2.py3-none-any.whl (250 kB)\n",
      "Downloading et_xmlfile-2.0.0-py3-none-any.whl (18 kB)\n",
      "Installing collected packages: et-xmlfile, openpyxl\n",
      "\n",
      "   ---------------------------------------- 0/2 [et-xmlfile]\n",
      "   -------------------- ------------------- 1/2 [openpyxl]\n",
      "   -------------------- ------------------- 1/2 [openpyxl]\n",
      "   -------------------- ------------------- 1/2 [openpyxl]\n",
      "   -------------------- ------------------- 1/2 [openpyxl]\n",
      "   -------------------- ------------------- 1/2 [openpyxl]\n",
      "   -------------------- ------------------- 1/2 [openpyxl]\n",
      "   -------------------- ------------------- 1/2 [openpyxl]\n",
      "   -------------------- ------------------- 1/2 [openpyxl]\n",
      "   -------------------- ------------------- 1/2 [openpyxl]\n",
      "   -------------------- ------------------- 1/2 [openpyxl]\n",
      "   -------------------- ------------------- 1/2 [openpyxl]\n",
      "   -------------------- ------------------- 1/2 [openpyxl]\n",
      "   -------------------- ------------------- 1/2 [openpyxl]\n",
      "   -------------------- ------------------- 1/2 [openpyxl]\n",
      "   -------------------- ------------------- 1/2 [openpyxl]\n",
      "   -------------------- ------------------- 1/2 [openpyxl]\n",
      "   -------------------- ------------------- 1/2 [openpyxl]\n",
      "   -------------------- ------------------- 1/2 [openpyxl]\n",
      "   -------------------- ------------------- 1/2 [openpyxl]\n",
      "   -------------------- ------------------- 1/2 [openpyxl]\n",
      "   -------------------- ------------------- 1/2 [openpyxl]\n",
      "   -------------------- ------------------- 1/2 [openpyxl]\n",
      "   -------------------- ------------------- 1/2 [openpyxl]\n",
      "   -------------------- ------------------- 1/2 [openpyxl]\n",
      "   -------------------- ------------------- 1/2 [openpyxl]\n",
      "   -------------------- ------------------- 1/2 [openpyxl]\n",
      "   -------------------- ------------------- 1/2 [openpyxl]\n",
      "   -------------------- ------------------- 1/2 [openpyxl]\n",
      "   -------------------- ------------------- 1/2 [openpyxl]\n",
      "   -------------------- ------------------- 1/2 [openpyxl]\n",
      "   -------------------- ------------------- 1/2 [openpyxl]\n",
      "   -------------------- ------------------- 1/2 [openpyxl]\n",
      "   -------------------- ------------------- 1/2 [openpyxl]\n",
      "   -------------------- ------------------- 1/2 [openpyxl]\n",
      "   -------------------- ------------------- 1/2 [openpyxl]\n",
      "   -------------------- ------------------- 1/2 [openpyxl]\n",
      "   -------------------- ------------------- 1/2 [openpyxl]\n",
      "   -------------------- ------------------- 1/2 [openpyxl]\n",
      "   -------------------- ------------------- 1/2 [openpyxl]\n",
      "   -------------------- ------------------- 1/2 [openpyxl]\n",
      "   -------------------- ------------------- 1/2 [openpyxl]\n",
      "   -------------------- ------------------- 1/2 [openpyxl]\n",
      "   -------------------- ------------------- 1/2 [openpyxl]\n",
      "   -------------------- ------------------- 1/2 [openpyxl]\n",
      "   ---------------------------------------- 2/2 [openpyxl]\n",
      "\n",
      "Successfully installed et-xmlfile-2.0.0 openpyxl-3.1.5\n"
     ]
    }
   ],
   "source": [
    "df1.to_excel('movies_cleaned.xlsx',index=False)"
   ]
  },
  {
   "cell_type": "code",
   "execution_count": 40,
   "id": "bb859395",
   "metadata": {},
   "outputs": [
    {
     "data": {
      "text/html": [
       "<div>\n",
       "<style scoped>\n",
       "    .dataframe tbody tr th:only-of-type {\n",
       "        vertical-align: middle;\n",
       "    }\n",
       "\n",
       "    .dataframe tbody tr th {\n",
       "        vertical-align: top;\n",
       "    }\n",
       "\n",
       "    .dataframe thead th {\n",
       "        text-align: right;\n",
       "    }\n",
       "</style>\n",
       "<table border=\"1\" class=\"dataframe\">\n",
       "  <thead>\n",
       "    <tr style=\"text-align: right;\">\n",
       "      <th></th>\n",
       "      <th>index</th>\n",
       "      <th>id</th>\n",
       "      <th>title</th>\n",
       "      <th>genres</th>\n",
       "      <th>original_language</th>\n",
       "      <th>overview</th>\n",
       "      <th>popularity</th>\n",
       "      <th>production_companies</th>\n",
       "      <th>release_date</th>\n",
       "      <th>budget</th>\n",
       "      <th>...</th>\n",
       "      <th>runtime</th>\n",
       "      <th>status</th>\n",
       "      <th>tagline</th>\n",
       "      <th>vote_average</th>\n",
       "      <th>vote_count</th>\n",
       "      <th>credits</th>\n",
       "      <th>keywords</th>\n",
       "      <th>poster_path</th>\n",
       "      <th>backdrop_path</th>\n",
       "      <th>recommendations</th>\n",
       "    </tr>\n",
       "  </thead>\n",
       "  <tbody>\n",
       "    <tr>\n",
       "      <th>37685</th>\n",
       "      <td>66272</td>\n",
       "      <td>368573</td>\n",
       "      <td>A Little Lust</td>\n",
       "      <td>Comedy-Drama-Romance</td>\n",
       "      <td>it</td>\n",
       "      <td>Sixteen year old Rocco's two aims in life are ...</td>\n",
       "      <td>2.947</td>\n",
       "      <td>Pigra Srl</td>\n",
       "      <td>2015-11-19</td>\n",
       "      <td>0.0</td>\n",
       "      <td>...</td>\n",
       "      <td>104.0</td>\n",
       "      <td>Released</td>\n",
       "      <td></td>\n",
       "      <td>6.9</td>\n",
       "      <td>22.0</td>\n",
       "      <td>Andrea Amato-Pia Engleberth-Corrado Invernizzi...</td>\n",
       "      <td>gay interest-lgbt teen-lgbt interest</td>\n",
       "      <td>/gDkOsmzRToy1J999SDBW8gvYMYW.jpg</td>\n",
       "      <td>/ynsBhgd8W86etmz8Ev5ECmNN7mo.jpg</td>\n",
       "      <td></td>\n",
       "    </tr>\n",
       "    <tr>\n",
       "      <th>12541</th>\n",
       "      <td>15410</td>\n",
       "      <td>276843</td>\n",
       "      <td>What We Did on Our Holiday</td>\n",
       "      <td>Comedy</td>\n",
       "      <td>en</td>\n",
       "      <td>Doug and Abi  and their three children travel ...</td>\n",
       "      <td>9.942</td>\n",
       "      <td>BBC Films-Lionsgate</td>\n",
       "      <td>2014-09-26</td>\n",
       "      <td>0.0</td>\n",
       "      <td>...</td>\n",
       "      <td>95.0</td>\n",
       "      <td>Released</td>\n",
       "      <td></td>\n",
       "      <td>6.8</td>\n",
       "      <td>428.0</td>\n",
       "      <td>David Tennant-Rosamund Pike-Billy Connolly-Ben...</td>\n",
       "      <td>vacation-family</td>\n",
       "      <td>/79erD2M6Tj9He4GSXiW0TjlQHkg.jpg</td>\n",
       "      <td>/onPtHLax9gpHHqhjyizIqYQfdh5.jpg</td>\n",
       "      <td>40161-28238-773982-20364-675568-636864-436549-...</td>\n",
       "    </tr>\n",
       "    <tr>\n",
       "      <th>26082</th>\n",
       "      <td>33897</td>\n",
       "      <td>64866</td>\n",
       "      <td>Tonka</td>\n",
       "      <td>Western-Action-Adventure</td>\n",
       "      <td>en</td>\n",
       "      <td>The remarkable and ironical story of a wild co...</td>\n",
       "      <td>5.278</td>\n",
       "      <td></td>\n",
       "      <td>1958-12-25</td>\n",
       "      <td>0.0</td>\n",
       "      <td>...</td>\n",
       "      <td>97.0</td>\n",
       "      <td>Released</td>\n",
       "      <td>The untold story behind the West's strangest l...</td>\n",
       "      <td>6.5</td>\n",
       "      <td>34.0</td>\n",
       "      <td>Sal Mineo-Philip Carey-Jerome Courtland-H.M. W...</td>\n",
       "      <td>little big horn-george armstrong custer</td>\n",
       "      <td>/476hivB6A9VEYYWsojnd4XJ9seX.jpg</td>\n",
       "      <td>/omTWSKQwSvb4yOiturTyN8huB4S.jpg</td>\n",
       "      <td>114975-31658</td>\n",
       "    </tr>\n",
       "    <tr>\n",
       "      <th>21220</th>\n",
       "      <td>26510</td>\n",
       "      <td>26010</td>\n",
       "      <td>Legendary Assassin</td>\n",
       "      <td>Action</td>\n",
       "      <td>cn</td>\n",
       "      <td>An assassin who is fresh from his latest kill ...</td>\n",
       "      <td>6.538</td>\n",
       "      <td>Seasonal Film Corporation-Gold Label Entertain...</td>\n",
       "      <td>2008-12-05</td>\n",
       "      <td>515788.0</td>\n",
       "      <td>...</td>\n",
       "      <td>89.0</td>\n",
       "      <td>Released</td>\n",
       "      <td>Every Move Kills</td>\n",
       "      <td>6.2</td>\n",
       "      <td>61.0</td>\n",
       "      <td>Wu Jing-Celina Jade-Kara Hui-Lam Suet-Tenky Ti...</td>\n",
       "      <td></td>\n",
       "      <td>/4B1ELu6dwWoERh9K75TJjrnK2jt.jpg</td>\n",
       "      <td>/nbC2l1Icyefs0elKUR5XTEyeT6t.jpg</td>\n",
       "      <td></td>\n",
       "    </tr>\n",
       "    <tr>\n",
       "      <th>21450</th>\n",
       "      <td>26842</td>\n",
       "      <td>41378</td>\n",
       "      <td>Five Element Ninjas</td>\n",
       "      <td>Action</td>\n",
       "      <td>zh</td>\n",
       "      <td>A young martial artist seeks revenge on the ni...</td>\n",
       "      <td>6.471</td>\n",
       "      <td>Shaw Brothers</td>\n",
       "      <td>1982-04-21</td>\n",
       "      <td>0.0</td>\n",
       "      <td>...</td>\n",
       "      <td>108.0</td>\n",
       "      <td>Released</td>\n",
       "      <td>Stronger than the Dragon... More powerful than...</td>\n",
       "      <td>6.7</td>\n",
       "      <td>51.0</td>\n",
       "      <td>Ricky Cheng Tien-Chi-Lo Meng-Chan Pui-Sai-Lung...</td>\n",
       "      <td>ambush-kung fu-ninja-bloodbath-weapons history</td>\n",
       "      <td>/xCJd8RdKQW1j1DUdNr4KQ3Q9vjm.jpg</td>\n",
       "      <td>/1ElaRkgQYxCcT1GcfH0fG2Qan3w.jpg</td>\n",
       "      <td>13481</td>\n",
       "    </tr>\n",
       "  </tbody>\n",
       "</table>\n",
       "<p>5 rows × 21 columns</p>\n",
       "</div>"
      ],
      "text/plain": [
       "       index      id                       title                    genres  \\\n",
       "37685  66272  368573               A Little Lust      Comedy-Drama-Romance   \n",
       "12541  15410  276843  What We Did on Our Holiday                    Comedy   \n",
       "26082  33897   64866                       Tonka  Western-Action-Adventure   \n",
       "21220  26510   26010          Legendary Assassin                    Action   \n",
       "21450  26842   41378         Five Element Ninjas                    Action   \n",
       "\n",
       "      original_language                                           overview  \\\n",
       "37685                it  Sixteen year old Rocco's two aims in life are ...   \n",
       "12541                en  Doug and Abi  and their three children travel ...   \n",
       "26082                en  The remarkable and ironical story of a wild co...   \n",
       "21220                cn  An assassin who is fresh from his latest kill ...   \n",
       "21450                zh  A young martial artist seeks revenge on the ni...   \n",
       "\n",
       "       popularity                               production_companies  \\\n",
       "37685       2.947                                          Pigra Srl   \n",
       "12541       9.942                                BBC Films-Lionsgate   \n",
       "26082       5.278                                                      \n",
       "21220       6.538  Seasonal Film Corporation-Gold Label Entertain...   \n",
       "21450       6.471                                      Shaw Brothers   \n",
       "\n",
       "      release_date    budget  ...  runtime    status  \\\n",
       "37685   2015-11-19       0.0  ...    104.0  Released   \n",
       "12541   2014-09-26       0.0  ...     95.0  Released   \n",
       "26082   1958-12-25       0.0  ...     97.0  Released   \n",
       "21220   2008-12-05  515788.0  ...     89.0  Released   \n",
       "21450   1982-04-21       0.0  ...    108.0  Released   \n",
       "\n",
       "                                                 tagline vote_average  \\\n",
       "37685                                                             6.9   \n",
       "12541                                                             6.8   \n",
       "26082  The untold story behind the West's strangest l...          6.5   \n",
       "21220                                   Every Move Kills          6.2   \n",
       "21450  Stronger than the Dragon... More powerful than...          6.7   \n",
       "\n",
       "       vote_count                                            credits  \\\n",
       "37685        22.0  Andrea Amato-Pia Engleberth-Corrado Invernizzi...   \n",
       "12541       428.0  David Tennant-Rosamund Pike-Billy Connolly-Ben...   \n",
       "26082        34.0  Sal Mineo-Philip Carey-Jerome Courtland-H.M. W...   \n",
       "21220        61.0  Wu Jing-Celina Jade-Kara Hui-Lam Suet-Tenky Ti...   \n",
       "21450        51.0  Ricky Cheng Tien-Chi-Lo Meng-Chan Pui-Sai-Lung...   \n",
       "\n",
       "                                             keywords  \\\n",
       "37685            gay interest-lgbt teen-lgbt interest   \n",
       "12541                                 vacation-family   \n",
       "26082         little big horn-george armstrong custer   \n",
       "21220                                                   \n",
       "21450  ambush-kung fu-ninja-bloodbath-weapons history   \n",
       "\n",
       "                            poster_path                     backdrop_path  \\\n",
       "37685  /gDkOsmzRToy1J999SDBW8gvYMYW.jpg  /ynsBhgd8W86etmz8Ev5ECmNN7mo.jpg   \n",
       "12541  /79erD2M6Tj9He4GSXiW0TjlQHkg.jpg  /onPtHLax9gpHHqhjyizIqYQfdh5.jpg   \n",
       "26082  /476hivB6A9VEYYWsojnd4XJ9seX.jpg  /omTWSKQwSvb4yOiturTyN8huB4S.jpg   \n",
       "21220  /4B1ELu6dwWoERh9K75TJjrnK2jt.jpg  /nbC2l1Icyefs0elKUR5XTEyeT6t.jpg   \n",
       "21450  /xCJd8RdKQW1j1DUdNr4KQ3Q9vjm.jpg  /1ElaRkgQYxCcT1GcfH0fG2Qan3w.jpg   \n",
       "\n",
       "                                         recommendations  \n",
       "37685                                                     \n",
       "12541  40161-28238-773982-20364-675568-636864-436549-...  \n",
       "26082                                       114975-31658  \n",
       "21220                                                     \n",
       "21450                                              13481  \n",
       "\n",
       "[5 rows x 21 columns]"
      ]
     },
     "execution_count": 40,
     "metadata": {},
     "output_type": "execute_result"
    }
   ],
   "source": [
    "df1.sample(5)"
   ]
  },
  {
   "cell_type": "code",
   "execution_count": 41,
   "id": "7f95eccf",
   "metadata": {},
   "outputs": [],
   "source": [
    "df1['genres']=df1['genres'].apply(lambda x: ' '.join(x.split('-')))\n",
    "df1['keywords']=df1['keywords'].apply(lambda x: ' '.join(x.split('-')))\n",
    "df1['credits']=df1['credits'].apply(lambda x: ' '.join(x.replace(' ','').split('-')[:5]))"
   ]
  },
  {
   "cell_type": "code",
   "execution_count": 42,
   "id": "5a0d9a51",
   "metadata": {},
   "outputs": [],
   "source": [
    "df1['tags']=df1['overview']+df1['genres']+df1['keywords']+df1['credits']+df1['original_language']"
   ]
  },
  {
   "cell_type": "code",
   "execution_count": 43,
   "id": "87ba7620",
   "metadata": {},
   "outputs": [
    {
     "data": {
      "text/plain": [
       "'After escaping from an Estonian psychiatric facility Leena Klammer travels to America by impersonating Esther the missing daughter of a wealthy family. But when her mask starts to slip she is put against a mother who will protect her family from the murderous “child” at any cost.Horror Thrillerpsychopath family secrets prequel murder impersonator mental patient psycho killer escaped mental patient missing daughter estonia female psychopathIsabelleFuhrman JuliaStiles RossifSutherland MatthewFinlan HiroKanagawaen'"
      ]
     },
     "execution_count": 43,
     "metadata": {},
     "output_type": "execute_result"
    }
   ],
   "source": [
    "df1['tags'][0]"
   ]
  },
  {
   "cell_type": "code",
   "execution_count": 44,
   "id": "47433af3",
   "metadata": {},
   "outputs": [],
   "source": [
    "from nltk.stem.snowball import SnowballStemmer\n",
    "stemmer = SnowballStemmer(\"english\")\n",
    "def stem(text):\n",
    "    y = []\n",
    "    \n",
    "    for i in text.split():\n",
    "        y.append(stemmer.stem(i))\n",
    "        \n",
    "    return ' '.join(y)\n",
    "\n",
    "df1['tags'] = df1['tags'].apply(stem)"
   ]
  },
  {
   "cell_type": "code",
   "execution_count": 45,
   "id": "6c5381eb",
   "metadata": {},
   "outputs": [
    {
     "name": "stderr",
     "output_type": "stream",
     "text": [
      "<>:1: SyntaxWarning: invalid escape sequence '\\w'\n",
      "<>:1: SyntaxWarning: invalid escape sequence '\\w'\n",
      "C:\\Users\\Mostafa\\AppData\\Local\\Temp\\ipykernel_1472\\2409714387.py:1: SyntaxWarning: invalid escape sequence '\\w'\n",
      "  df1['tags']=df1['tags'].str.replace('[^\\w\\s]','')\n"
     ]
    }
   ],
   "source": [
    "df1['tags']=df1['tags'].str.replace('[^\\w\\s]','')"
   ]
  },
  {
   "cell_type": "code",
   "execution_count": 46,
   "id": "417d6e0a",
   "metadata": {},
   "outputs": [],
   "source": [
    "from sklearn.feature_extraction.text import TfidfVectorizer\n",
    "tfidf=TfidfVectorizer(stop_words='english')"
   ]
  },
  {
   "cell_type": "code",
   "execution_count": 47,
   "id": "902294c9",
   "metadata": {},
   "outputs": [],
   "source": [
    "tfidf_matrix =tfidf.fit_transform(df1['tags'])"
   ]
  },
  {
   "cell_type": "code",
   "execution_count": 48,
   "id": "51eee35a",
   "metadata": {},
   "outputs": [
    {
     "data": {
      "text/plain": [
       "'after escap from an estonian psychiatr facil leena klammer travel to america by imperson esther the miss daughter of a wealthi family. but when her mask start to slip she is put against a mother who will protect her famili from the murder “child” at ani cost.horror thrillerpsychopath famili secret prequel murder imperson mental patient psycho killer escap mental patient miss daughter estonia femal psychopathisabellefuhrman juliastil rossifsutherland matthewfinlan hirokanagawaen'"
      ]
     },
     "execution_count": 48,
     "metadata": {},
     "output_type": "execute_result"
    }
   ],
   "source": [
    "df1['tags'][0]"
   ]
  },
  {
   "cell_type": "code",
   "execution_count": 51,
   "id": "2947e184",
   "metadata": {},
   "outputs": [],
   "source": [
    "# Function that takes in movie title as input and outputs most similar movies\n",
    "from skimage import io\n",
    "from sklearn.metrics.pairwise import cosine_similarity\n",
    "\n",
    "def get_recommendations(title):\n",
    "    # Get the index of the movie that matches the title\n",
    "    idx = df1.index[df1['title'] == title][0]\n",
    "    # show given movie poster\n",
    "    try:\n",
    "        a = io.imread(f'https://image.tmdb.org/t/p/w500/{df1.loc[idx, \"poster_path\"]}')\n",
    "        plt.imshow(a)\n",
    "        plt.axis('off')\n",
    "        plt.title(title)\n",
    "        plt.show()\n",
    "    except:pass\n",
    "    \n",
    "    print('Recommendations\\n')\n",
    "\n",
    "\n",
    "    # Get the pairwise similarity scores of all movies with that movie\n",
    "    sim_scores = list(enumerate(\n",
    "        cosine_similarity(\n",
    "            tfidf_matrix,\n",
    "            tfidf_matrix[idx])))\n",
    "\n",
    "    # Sort the movies based on the similarity scores\n",
    "    sim_scores = sorted(sim_scores, key=lambda x: x[1], reverse=True)\n",
    "\n",
    "    # Get the scores of the 10 most similar movies\n",
    "    sim_scores = sim_scores[1:10]\n",
    "\n",
    "    # Get the movie indices\n",
    "    movie_indices = [i[0] for i in sim_scores]\n",
    "\n",
    "    # Return the top 10 most similar movies\n",
    "    result = df1.iloc[movie_indices]\n",
    "    \n",
    "    # show reco. movie posters\n",
    "    fig, ax = plt.subplots(2, 4, figsize=(15,15))\n",
    "    ax=ax.flatten()\n",
    "    for i, j in enumerate(result.poster_path):\n",
    "        try:\n",
    "            ax[i].axis('off')\n",
    "            ax[i].set_title(result.iloc[i].title)\n",
    "            a = io.imread(f'https://image.tmdb.org/t/p/w500/{j}')\n",
    "            ax[i].imshow(a)\n",
    "        except: pass\n",
    "    fig.tight_layout()\n",
    "    fig.show()"
   ]
  }
 ],
 "metadata": {
  "kernelspec": {
   "display_name": "Python 3",
   "language": "python",
   "name": "python3"
  },
  "language_info": {
   "codemirror_mode": {
    "name": "ipython",
    "version": 3
   },
   "file_extension": ".py",
   "mimetype": "text/x-python",
   "name": "python",
   "nbconvert_exporter": "python",
   "pygments_lexer": "ipython3",
   "version": "3.13.3"
  }
 },
 "nbformat": 4,
 "nbformat_minor": 5
}
